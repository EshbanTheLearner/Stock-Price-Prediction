{
  "nbformat": 4,
  "nbformat_minor": 0,
  "metadata": {
    "colab": {
      "name": "KSE100-Prediction.ipynb",
      "version": "0.3.2",
      "provenance": [],
      "collapsed_sections": []
    },
    "kernelspec": {
      "name": "python3",
      "display_name": "Python 3"
    }
  },
  "cells": [
    {
      "metadata": {
        "id": "ZgBlaqdxG4gL",
        "colab_type": "code",
        "colab": {
          "base_uri": "https://localhost:8080/",
          "height": 34
        },
        "outputId": "740be3a7-0d0f-4402-8af5-bf69304e20e7"
      },
      "cell_type": "code",
      "source": [
        "import numpy as np\n",
        "import pandas as pd\n",
        "import matplotlib.pyplot as plt\n",
        "from pylab import rcParams\n",
        "import matplotlib.dates as mdates\n",
        "from sklearn.preprocessing import MinMaxScaler\n",
        "from fbprophet import Prophet\n",
        "from fbprophet.diagnostics import performance_metrics, cross_validation\n",
        "from fbprophet.plot import plot_cross_validation_metric\n",
        "import statsmodels.api as sm\n",
        "import math\n",
        "from math import sqrt\n",
        "from keras.models import Sequential\n",
        "from keras.layers import Dense\n",
        "from keras.layers import LSTM\n",
        "from keras.layers import Dropout\n",
        "from sklearn.metrics import mean_squared_error"
      ],
      "execution_count": 1,
      "outputs": [
        {
          "output_type": "stream",
          "text": [
            "Using TensorFlow backend.\n"
          ],
          "name": "stderr"
        }
      ]
    },
    {
      "metadata": {
        "id": "wI7jxhFqK7OC",
        "colab_type": "code",
        "colab": {}
      },
      "cell_type": "code",
      "source": [
        "from pandas.plotting import register_matplotlib_converters\n",
        "register_matplotlib_converters()"
      ],
      "execution_count": 0,
      "outputs": []
    },
    {
      "metadata": {
        "id": "1QkUrpF3HWM-",
        "colab_type": "code",
        "colab": {}
      },
      "cell_type": "code",
      "source": [
        "rcParams['figure.figsize'] = 16, 8"
      ],
      "execution_count": 0,
      "outputs": []
    },
    {
      "metadata": {
        "id": "vnBpInl5IJ3w",
        "colab_type": "code",
        "colab": {}
      },
      "cell_type": "code",
      "source": [
        "df = pd.read_csv('Karachi 100 Historical Data.csv', sep=',', na_values='?')"
      ],
      "execution_count": 0,
      "outputs": []
    },
    {
      "metadata": {
        "id": "-syU4s4PIksw",
        "colab_type": "code",
        "colab": {
          "base_uri": "https://localhost:8080/",
          "height": 306
        },
        "outputId": "bd65c6b0-b68d-4959-e50f-e9e28520a86e"
      },
      "cell_type": "code",
      "source": [
        "df.head()"
      ],
      "execution_count": 5,
      "outputs": [
        {
          "output_type": "execute_result",
          "data": {
            "text/html": [
              "<div>\n",
              "<style scoped>\n",
              "    .dataframe tbody tr th:only-of-type {\n",
              "        vertical-align: middle;\n",
              "    }\n",
              "\n",
              "    .dataframe tbody tr th {\n",
              "        vertical-align: top;\n",
              "    }\n",
              "\n",
              "    .dataframe thead th {\n",
              "        text-align: right;\n",
              "    }\n",
              "</style>\n",
              "<table border=\"1\" class=\"dataframe\">\n",
              "  <thead>\n",
              "    <tr style=\"text-align: right;\">\n",
              "      <th></th>\n",
              "      <th>Date</th>\n",
              "      <th>Price</th>\n",
              "      <th>Open</th>\n",
              "      <th>High</th>\n",
              "      <th>Low</th>\n",
              "      <th>Vol.</th>\n",
              "      <th>Change %</th>\n",
              "    </tr>\n",
              "  </thead>\n",
              "  <tbody>\n",
              "    <tr>\n",
              "      <th>0</th>\n",
              "      <td>Apr 24, 2019</td>\n",
              "      <td>36,462.59</td>\n",
              "      <td>36,375.22</td>\n",
              "      <td>36,585.48</td>\n",
              "      <td>36,332.28</td>\n",
              "      <td>28.20K</td>\n",
              "      <td>0.16%</td>\n",
              "    </tr>\n",
              "    <tr>\n",
              "      <th>1</th>\n",
              "      <td>Apr 23, 2019</td>\n",
              "      <td>36,404.03</td>\n",
              "      <td>36,901.24</td>\n",
              "      <td>36,911.61</td>\n",
              "      <td>36,136.11</td>\n",
              "      <td>95.42K</td>\n",
              "      <td>-1.35%</td>\n",
              "    </tr>\n",
              "    <tr>\n",
              "      <th>2</th>\n",
              "      <td>Apr 22, 2019</td>\n",
              "      <td>36,901.69</td>\n",
              "      <td>37,474.80</td>\n",
              "      <td>37,479.27</td>\n",
              "      <td>36,839.29</td>\n",
              "      <td>104.28K</td>\n",
              "      <td>-1.05%</td>\n",
              "    </tr>\n",
              "    <tr>\n",
              "      <th>3</th>\n",
              "      <td>Apr 19, 2019</td>\n",
              "      <td>37,292.47</td>\n",
              "      <td>36,827.08</td>\n",
              "      <td>37,729.12</td>\n",
              "      <td>36,818.16</td>\n",
              "      <td>139.07K</td>\n",
              "      <td>1.31%</td>\n",
              "    </tr>\n",
              "    <tr>\n",
              "      <th>4</th>\n",
              "      <td>Apr 18, 2019</td>\n",
              "      <td>36,811.86</td>\n",
              "      <td>36,737.51</td>\n",
              "      <td>36,919.95</td>\n",
              "      <td>36,419.36</td>\n",
              "      <td>151.84K</td>\n",
              "      <td>0.16%</td>\n",
              "    </tr>\n",
              "  </tbody>\n",
              "</table>\n",
              "</div>"
            ],
            "text/plain": [
              "           Date      Price       Open       High        Low     Vol. Change %\n",
              "0  Apr 24, 2019  36,462.59  36,375.22  36,585.48  36,332.28   28.20K    0.16%\n",
              "1  Apr 23, 2019  36,404.03  36,901.24  36,911.61  36,136.11   95.42K   -1.35%\n",
              "2  Apr 22, 2019  36,901.69  37,474.80  37,479.27  36,839.29  104.28K   -1.05%\n",
              "3  Apr 19, 2019  37,292.47  36,827.08  37,729.12  36,818.16  139.07K    1.31%\n",
              "4  Apr 18, 2019  36,811.86  36,737.51  36,919.95  36,419.36  151.84K    0.16%"
            ]
          },
          "metadata": {
            "tags": []
          },
          "execution_count": 5
        }
      ]
    },
    {
      "metadata": {
        "id": "XB0ijDjJInTw",
        "colab_type": "code",
        "colab": {}
      },
      "cell_type": "code",
      "source": [
        "df['Date'] = pd.to_datetime(df['Date'])\n",
        "df['Price'] = df['Price'].str.replace(',','')\n",
        "df['Open'] = df['Open'].str.replace(',','')\n",
        "df['High'] = df['High'].str.replace(',','')\n",
        "df['Low'] = df['Low'].str.replace(',','')"
      ],
      "execution_count": 0,
      "outputs": []
    },
    {
      "metadata": {
        "id": "MS9zIcRYIxZd",
        "colab_type": "code",
        "colab": {}
      },
      "cell_type": "code",
      "source": [
        "df = df.drop('Vol.',1)\n",
        "df = df.drop('Change %', 1)"
      ],
      "execution_count": 0,
      "outputs": []
    },
    {
      "metadata": {
        "id": "DYnKHEYQI0Vg",
        "colab_type": "code",
        "colab": {}
      },
      "cell_type": "code",
      "source": [
        "df['Price'] = df['Price'].astype(float)\n",
        "df['Open'] = df['Open'].astype(float)\n",
        "df['High'] = df['High'].astype(float)\n",
        "df['Low'] = df['Low'].astype(float)"
      ],
      "execution_count": 0,
      "outputs": []
    },
    {
      "metadata": {
        "id": "Mv3Pw1XuJJVD",
        "colab_type": "code",
        "colab": {}
      },
      "cell_type": "code",
      "source": [
        "df = df.drop('Open',1)\n",
        "df = df.drop('High',1)\n",
        "df = df.drop('Low',1)"
      ],
      "execution_count": 0,
      "outputs": []
    },
    {
      "metadata": {
        "id": "BShX8-zCJNzB",
        "colab_type": "code",
        "colab": {
          "base_uri": "https://localhost:8080/",
          "height": 204
        },
        "outputId": "46844297-f7b5-471f-d8f5-e23011f0115b"
      },
      "cell_type": "code",
      "source": [
        "df.head()\n",
        "df.tail()"
      ],
      "execution_count": 10,
      "outputs": [
        {
          "output_type": "execute_result",
          "data": {
            "text/html": [
              "<div>\n",
              "<style scoped>\n",
              "    .dataframe tbody tr th:only-of-type {\n",
              "        vertical-align: middle;\n",
              "    }\n",
              "\n",
              "    .dataframe tbody tr th {\n",
              "        vertical-align: top;\n",
              "    }\n",
              "\n",
              "    .dataframe thead th {\n",
              "        text-align: right;\n",
              "    }\n",
              "</style>\n",
              "<table border=\"1\" class=\"dataframe\">\n",
              "  <thead>\n",
              "    <tr style=\"text-align: right;\">\n",
              "      <th></th>\n",
              "      <th>Date</th>\n",
              "      <th>Price</th>\n",
              "    </tr>\n",
              "  </thead>\n",
              "  <tbody>\n",
              "    <tr>\n",
              "      <th>1068</th>\n",
              "      <td>2015-01-07</td>\n",
              "      <td>32835.94</td>\n",
              "    </tr>\n",
              "    <tr>\n",
              "      <th>1069</th>\n",
              "      <td>2015-01-06</td>\n",
              "      <td>32668.73</td>\n",
              "    </tr>\n",
              "    <tr>\n",
              "      <th>1070</th>\n",
              "      <td>2015-01-05</td>\n",
              "      <td>32757.79</td>\n",
              "    </tr>\n",
              "    <tr>\n",
              "      <th>1071</th>\n",
              "      <td>2015-01-02</td>\n",
              "      <td>32731.61</td>\n",
              "    </tr>\n",
              "    <tr>\n",
              "      <th>1072</th>\n",
              "      <td>2015-01-01</td>\n",
              "      <td>32503.80</td>\n",
              "    </tr>\n",
              "  </tbody>\n",
              "</table>\n",
              "</div>"
            ],
            "text/plain": [
              "           Date     Price\n",
              "1068 2015-01-07  32835.94\n",
              "1069 2015-01-06  32668.73\n",
              "1070 2015-01-05  32757.79\n",
              "1071 2015-01-02  32731.61\n",
              "1072 2015-01-01  32503.80"
            ]
          },
          "metadata": {
            "tags": []
          },
          "execution_count": 10
        }
      ]
    },
    {
      "metadata": {
        "id": "UwUWfmK-JO7u",
        "colab_type": "code",
        "colab": {
          "base_uri": "https://localhost:8080/",
          "height": 297
        },
        "outputId": "23758a6a-5fd0-49c7-9928-ec733361e621"
      },
      "cell_type": "code",
      "source": [
        "scaler = MinMaxScaler(feature_range=(0, 1))\n",
        "df['Price'] = scaler.fit_transform(df[['Price']])\n",
        "df.describe()"
      ],
      "execution_count": 11,
      "outputs": [
        {
          "output_type": "execute_result",
          "data": {
            "text/html": [
              "<div>\n",
              "<style scoped>\n",
              "    .dataframe tbody tr th:only-of-type {\n",
              "        vertical-align: middle;\n",
              "    }\n",
              "\n",
              "    .dataframe tbody tr th {\n",
              "        vertical-align: top;\n",
              "    }\n",
              "\n",
              "    .dataframe thead th {\n",
              "        text-align: right;\n",
              "    }\n",
              "</style>\n",
              "<table border=\"1\" class=\"dataframe\">\n",
              "  <thead>\n",
              "    <tr style=\"text-align: right;\">\n",
              "      <th></th>\n",
              "      <th>Price</th>\n",
              "    </tr>\n",
              "  </thead>\n",
              "  <tbody>\n",
              "    <tr>\n",
              "      <th>count</th>\n",
              "      <td>1073.000000</td>\n",
              "    </tr>\n",
              "    <tr>\n",
              "      <th>mean</th>\n",
              "      <td>0.449635</td>\n",
              "    </tr>\n",
              "    <tr>\n",
              "      <th>std</th>\n",
              "      <td>0.224856</td>\n",
              "    </tr>\n",
              "    <tr>\n",
              "      <th>min</th>\n",
              "      <td>0.000000</td>\n",
              "    </tr>\n",
              "    <tr>\n",
              "      <th>25%</th>\n",
              "      <td>0.225680</td>\n",
              "    </tr>\n",
              "    <tr>\n",
              "      <th>50%</th>\n",
              "      <td>0.459549</td>\n",
              "    </tr>\n",
              "    <tr>\n",
              "      <th>75%</th>\n",
              "      <td>0.590147</td>\n",
              "    </tr>\n",
              "    <tr>\n",
              "      <th>max</th>\n",
              "      <td>1.000000</td>\n",
              "    </tr>\n",
              "  </tbody>\n",
              "</table>\n",
              "</div>"
            ],
            "text/plain": [
              "             Price\n",
              "count  1073.000000\n",
              "mean      0.449635\n",
              "std       0.224856\n",
              "min       0.000000\n",
              "25%       0.225680\n",
              "50%       0.459549\n",
              "75%       0.590147\n",
              "max       1.000000"
            ]
          },
          "metadata": {
            "tags": []
          },
          "execution_count": 11
        }
      ]
    },
    {
      "metadata": {
        "id": "R68fiayyRd4A",
        "colab_type": "code",
        "colab": {}
      },
      "cell_type": "code",
      "source": [
        "df= df.sort_values('Date')\n",
        "df = df.reset_index()\n",
        "df = df.drop('index',axis=1)\n",
        "df = df.set_index('Date')"
      ],
      "execution_count": 0,
      "outputs": []
    },
    {
      "metadata": {
        "id": "JJ7lTJDoKmX8",
        "colab_type": "code",
        "colab": {}
      },
      "cell_type": "code",
      "source": [
        "ts = df[['Price']]\n",
        "ts = ts[ts['Price'].notnull()].copy()\n",
        "ts['Price'] = ts['Price'].replace(',','')\n",
        "ts['Price']=ts['Price'].astype(float)\n",
        "ts.describe()\n",
        "ts= ts.resample('B').mean()\n",
        "ts.dropna(inplace=True)"
      ],
      "execution_count": 0,
      "outputs": []
    },
    {
      "metadata": {
        "id": "Ihz-JvofKtYc",
        "colab_type": "code",
        "colab": {
          "base_uri": "https://localhost:8080/",
          "height": 520
        },
        "outputId": "bd297a30-5ffb-456b-9649-791f43b6f31f"
      },
      "cell_type": "code",
      "source": [
        "fig, ax = plt.subplots()\n",
        "ax.plot(ts,label='Close Price of KSE100')\n",
        "ax.legend(fontsize=12)\n",
        "ax.xaxis.set_major_locator(mdates.YearLocator())\n",
        "plt.xlabel('Date')\n",
        "plt.ylabel('Close Price')\n",
        "plt.show()"
      ],
      "execution_count": 14,
      "outputs": [
        {
          "output_type": "display_data",
          "data": {
            "image/png": "[encoded data removed]",
            "text/plain": [
              "<Figure size 1152x576 with 1 Axes>"
            ]
          },
          "metadata": {
            "tags": []
          }
        }
      ]
    },
    {
      "metadata": {
        "id": "Nka30H9VK0Cf",
        "colab_type": "code",
        "colab": {}
      },
      "cell_type": "code",
      "source": [
        "ts.describe()\n",
        "scaler = MinMaxScaler(feature_range=(0, 1))\n",
        "ts['Price'] = scaler.fit_transform(ts[['Price']])"
      ],
      "execution_count": 0,
      "outputs": []
    },
    {
      "metadata": {
        "id": "ZGNDXZpyPujg",
        "colab_type": "code",
        "colab": {
          "base_uri": "https://localhost:8080/",
          "height": 297
        },
        "outputId": "e904c9a2-dae4-41df-af24-7972a480b659"
      },
      "cell_type": "code",
      "source": [
        "df.describe()"
      ],
      "execution_count": 16,
      "outputs": [
        {
          "output_type": "execute_result",
          "data": {
            "text/html": [
              "<div>\n",
              "<style scoped>\n",
              "    .dataframe tbody tr th:only-of-type {\n",
              "        vertical-align: middle;\n",
              "    }\n",
              "\n",
              "    .dataframe tbody tr th {\n",
              "        vertical-align: top;\n",
              "    }\n",
              "\n",
              "    .dataframe thead th {\n",
              "        text-align: right;\n",
              "    }\n",
              "</style>\n",
              "<table border=\"1\" class=\"dataframe\">\n",
              "  <thead>\n",
              "    <tr style=\"text-align: right;\">\n",
              "      <th></th>\n",
              "      <th>Price</th>\n",
              "    </tr>\n",
              "  </thead>\n",
              "  <tbody>\n",
              "    <tr>\n",
              "      <th>count</th>\n",
              "      <td>1073.000000</td>\n",
              "    </tr>\n",
              "    <tr>\n",
              "      <th>mean</th>\n",
              "      <td>0.449635</td>\n",
              "    </tr>\n",
              "    <tr>\n",
              "      <th>std</th>\n",
              "      <td>0.224856</td>\n",
              "    </tr>\n",
              "    <tr>\n",
              "      <th>min</th>\n",
              "      <td>0.000000</td>\n",
              "    </tr>\n",
              "    <tr>\n",
              "      <th>25%</th>\n",
              "      <td>0.225680</td>\n",
              "    </tr>\n",
              "    <tr>\n",
              "      <th>50%</th>\n",
              "      <td>0.459549</td>\n",
              "    </tr>\n",
              "    <tr>\n",
              "      <th>75%</th>\n",
              "      <td>0.590147</td>\n",
              "    </tr>\n",
              "    <tr>\n",
              "      <th>max</th>\n",
              "      <td>1.000000</td>\n",
              "    </tr>\n",
              "  </tbody>\n",
              "</table>\n",
              "</div>"
            ],
            "text/plain": [
              "             Price\n",
              "count  1073.000000\n",
              "mean      0.449635\n",
              "std       0.224856\n",
              "min       0.000000\n",
              "25%       0.225680\n",
              "50%       0.459549\n",
              "75%       0.590147\n",
              "max       1.000000"
            ]
          },
          "metadata": {
            "tags": []
          },
          "execution_count": 16
        }
      ]
    },
    {
      "metadata": {
        "id": "Tgi7s5LaLJaf",
        "colab_type": "code",
        "colab": {}
      },
      "cell_type": "code",
      "source": [
        "trainX = df[:805]\n",
        "testX = df[805:]"
      ],
      "execution_count": 0,
      "outputs": []
    },
    {
      "metadata": {
        "id": "Pkt3_D-oLL2a",
        "colab_type": "code",
        "colab": {}
      },
      "cell_type": "code",
      "source": [
        "def create_dataset(dataset, look_back=1):\n",
        "\tdataX, dataY = [], []\n",
        "\tfor i in range(len(dataset)-look_back-1):\n",
        "\t\ta = dataset[i:(i+look_back), 0]\n",
        "\t\tdataX.append(a)\n",
        "\t\tdataY.append(dataset[i + look_back, 0])\n",
        "\treturn np.array(dataX), np.array(dataY)"
      ],
      "execution_count": 0,
      "outputs": []
    },
    {
      "metadata": {
        "id": "ASQnzPbRLeS0",
        "colab_type": "code",
        "colab": {}
      },
      "cell_type": "code",
      "source": [
        "look_back = 1\n",
        "trainX, trainY = create_dataset(trainX.values, look_back)\n",
        "testX, testY = create_dataset(testX.values, look_back)"
      ],
      "execution_count": 0,
      "outputs": []
    },
    {
      "metadata": {
        "id": "E91Z_qBMMRHu",
        "colab_type": "code",
        "colab": {
          "base_uri": "https://localhost:8080/",
          "height": 235
        },
        "outputId": "48f342da-cbe0-4f65-8959-93a1b9363228"
      },
      "cell_type": "code",
      "source": [
        "df.tail()"
      ],
      "execution_count": 20,
      "outputs": [
        {
          "output_type": "execute_result",
          "data": {
            "text/html": [
              "<div>\n",
              "<style scoped>\n",
              "    .dataframe tbody tr th:only-of-type {\n",
              "        vertical-align: middle;\n",
              "    }\n",
              "\n",
              "    .dataframe tbody tr th {\n",
              "        vertical-align: top;\n",
              "    }\n",
              "\n",
              "    .dataframe thead th {\n",
              "        text-align: right;\n",
              "    }\n",
              "</style>\n",
              "<table border=\"1\" class=\"dataframe\">\n",
              "  <thead>\n",
              "    <tr style=\"text-align: right;\">\n",
              "      <th></th>\n",
              "      <th>Price</th>\n",
              "    </tr>\n",
              "    <tr>\n",
              "      <th>Date</th>\n",
              "      <th></th>\n",
              "    </tr>\n",
              "  </thead>\n",
              "  <tbody>\n",
              "    <tr>\n",
              "      <th>2019-04-18</th>\n",
              "      <td>0.329228</td>\n",
              "    </tr>\n",
              "    <tr>\n",
              "      <th>2019-04-19</th>\n",
              "      <td>0.349296</td>\n",
              "    </tr>\n",
              "    <tr>\n",
              "      <th>2019-04-22</th>\n",
              "      <td>0.332979</td>\n",
              "    </tr>\n",
              "    <tr>\n",
              "      <th>2019-04-23</th>\n",
              "      <td>0.312199</td>\n",
              "    </tr>\n",
              "    <tr>\n",
              "      <th>2019-04-24</th>\n",
              "      <td>0.314644</td>\n",
              "    </tr>\n",
              "  </tbody>\n",
              "</table>\n",
              "</div>"
            ],
            "text/plain": [
              "               Price\n",
              "Date                \n",
              "2019-04-18  0.329228\n",
              "2019-04-19  0.349296\n",
              "2019-04-22  0.332979\n",
              "2019-04-23  0.312199\n",
              "2019-04-24  0.314644"
            ]
          },
          "metadata": {
            "tags": []
          },
          "execution_count": 20
        }
      ]
    },
    {
      "metadata": {
        "id": "OJWAfgRzLgoB",
        "colab_type": "code",
        "colab": {}
      },
      "cell_type": "code",
      "source": [
        "trainX = np.reshape(trainX, (trainX.shape[0], 1, trainX.shape[1]))\n",
        "trainY = np.reshape(trainY, (trainY.shape[0], 1, 1))\n",
        "testX = np.reshape(testX, (testX.shape[0], 1, testX.shape[1]))\n",
        "testY = np.reshape(testY, (testY.shape[0], 1, 1))"
      ],
      "execution_count": 0,
      "outputs": []
    },
    {
      "metadata": {
        "id": "3MAuymXFLiU5",
        "colab_type": "code",
        "colab": {
          "base_uri": "https://localhost:8080/",
          "height": 139
        },
        "outputId": "2cb3acc8-4e84-438d-b659-3bcc7cf222ac"
      },
      "cell_type": "code",
      "source": [
        "model = Sequential()\n",
        "model.add(LSTM(units=50,return_sequences = True,input_shape=(1,1)))\n",
        "model.add(Dropout(0.5))\n",
        "model.add(Dense(units=1))"
      ],
      "execution_count": 22,
      "outputs": [
        {
          "output_type": "stream",
          "text": [
            "WARNING:tensorflow:From /usr/local/lib/python3.6/dist-packages/tensorflow/python/framework/op_def_library.py:263: colocate_with (from tensorflow.python.framework.ops) is deprecated and will be removed in a future version.\n",
            "Instructions for updating:\n",
            "Colocations handled automatically by placer.\n",
            "WARNING:tensorflow:From /usr/local/lib/python3.6/dist-packages/keras/backend/tensorflow_backend.py:3445: calling dropout (from tensorflow.python.ops.nn_ops) with keep_prob is deprecated and will be removed in a future version.\n",
            "Instructions for updating:\n",
            "Please use `rate` instead of `keep_prob`. Rate should be set to `rate = 1 - keep_prob`.\n"
          ],
          "name": "stderr"
        }
      ]
    },
    {
      "metadata": {
        "id": "V9Lc-PfNX3Au",
        "colab_type": "code",
        "colab": {}
      },
      "cell_type": "code",
      "source": [
        "model.compile(loss='mean_squared_error', optimizer='adam',metrics=['accuracy'])"
      ],
      "execution_count": 0,
      "outputs": []
    },
    {
      "metadata": {
        "id": "-tzX4vdEX4rP",
        "colab_type": "code",
        "colab": {
          "base_uri": "https://localhost:8080/",
          "height": 3505
        },
        "outputId": "2851c7a9-b96b-4c0f-8301-681a227aab3f"
      },
      "cell_type": "code",
      "source": [
        "history = model.fit(trainX, trainY, epochs = 100, batch_size = 32,validation_split=0.33)\n",
        "testPredict = model.predict(testX)"
      ],
      "execution_count": 24,
      "outputs": [
        {
          "output_type": "stream",
          "text": [
            "WARNING:tensorflow:From /usr/local/lib/python3.6/dist-packages/tensorflow/python/ops/math_ops.py:3066: to_int32 (from tensorflow.python.ops.math_ops) is deprecated and will be removed in a future version.\n",
            "Instructions for updating:\n",
            "Use tf.cast instead.\n"
          ],
          "name": "stderr"
        },
        {
          "output_type": "stream",
          "text": [
            "Train on 538 samples, validate on 265 samples\n",
            "Epoch 1/100\n",
            "538/538 [==============================] - 1s 1ms/step - loss: 0.1389 - acc: 0.0019 - val_loss: 0.3688 - val_acc: 0.0000e+00\n",
            "Epoch 2/100\n",
            "538/538 [==============================] - 0s 91us/step - loss: 0.0992 - acc: 0.0019 - val_loss: 0.2767 - val_acc: 0.0000e+00\n",
            "Epoch 3/100\n",
            "538/538 [==============================] - 0s 85us/step - loss: 0.0695 - acc: 0.0019 - val_loss: 0.1972 - val_acc: 0.0000e+00\n",
            "Epoch 4/100\n",
            "538/538 [==============================] - 0s 86us/step - loss: 0.0463 - acc: 0.0019 - val_loss: 0.1354 - val_acc: 0.0000e+00\n",
            "Epoch 5/100\n",
            "538/538 [==============================] - 0s 87us/step - loss: 0.0334 - acc: 0.0019 - val_loss: 0.0920 - val_acc: 0.0000e+00\n",
            "Epoch 6/100\n",
            "538/538 [==============================] - 0s 95us/step - loss: 0.0282 - acc: 0.0019 - val_loss: 0.0680 - val_acc: 0.0038\n",
            "Epoch 7/100\n",
            "538/538 [==============================] - 0s 88us/step - loss: 0.0265 - acc: 0.0019 - val_loss: 0.0573 - val_acc: 0.0038\n",
            "Epoch 8/100\n",
            "538/538 [==============================] - 0s 93us/step - loss: 0.0242 - acc: 0.0019 - val_loss: 0.0504 - val_acc: 0.0038\n",
            "Epoch 9/100\n",
            "538/538 [==============================] - 0s 93us/step - loss: 0.0231 - acc: 0.0019 - val_loss: 0.0470 - val_acc: 0.0038\n",
            "Epoch 10/100\n",
            "538/538 [==============================] - 0s 94us/step - loss: 0.0219 - acc: 0.0019 - val_loss: 0.0435 - val_acc: 0.0038\n",
            "Epoch 11/100\n",
            "538/538 [==============================] - 0s 87us/step - loss: 0.0195 - acc: 0.0019 - val_loss: 0.0372 - val_acc: 0.0038\n",
            "Epoch 12/100\n",
            "538/538 [==============================] - 0s 89us/step - loss: 0.0166 - acc: 0.0019 - val_loss: 0.0335 - val_acc: 0.0038\n",
            "Epoch 13/100\n",
            "538/538 [==============================] - 0s 92us/step - loss: 0.0155 - acc: 0.0019 - val_loss: 0.0279 - val_acc: 0.0038\n",
            "Epoch 14/100\n",
            "538/538 [==============================] - 0s 87us/step - loss: 0.0140 - acc: 0.0019 - val_loss: 0.0252 - val_acc: 0.0038\n",
            "Epoch 15/100\n",
            "538/538 [==============================] - 0s 94us/step - loss: 0.0129 - acc: 0.0019 - val_loss: 0.0212 - val_acc: 0.0038\n",
            "Epoch 16/100\n",
            "538/538 [==============================] - 0s 88us/step - loss: 0.0095 - acc: 0.0019 - val_loss: 0.0183 - val_acc: 0.0038\n",
            "Epoch 17/100\n",
            "538/538 [==============================] - 0s 99us/step - loss: 0.0095 - acc: 0.0019 - val_loss: 0.0138 - val_acc: 0.0038\n",
            "Epoch 18/100\n",
            "538/538 [==============================] - 0s 94us/step - loss: 0.0087 - acc: 0.0019 - val_loss: 0.0096 - val_acc: 0.0038\n",
            "Epoch 19/100\n",
            "538/538 [==============================] - 0s 86us/step - loss: 0.0067 - acc: 0.0019 - val_loss: 0.0072 - val_acc: 0.0038\n",
            "Epoch 20/100\n",
            "538/538 [==============================] - 0s 92us/step - loss: 0.0070 - acc: 0.0019 - val_loss: 0.0045 - val_acc: 0.0038\n",
            "Epoch 21/100\n",
            "538/538 [==============================] - 0s 98us/step - loss: 0.0052 - acc: 0.0019 - val_loss: 0.0038 - val_acc: 0.0038\n",
            "Epoch 22/100\n",
            "538/538 [==============================] - 0s 93us/step - loss: 0.0051 - acc: 0.0019 - val_loss: 0.0028 - val_acc: 0.0038\n",
            "Epoch 23/100\n",
            "538/538 [==============================] - 0s 88us/step - loss: 0.0038 - acc: 0.0019 - val_loss: 0.0029 - val_acc: 0.0038\n",
            "Epoch 24/100\n",
            "538/538 [==============================] - 0s 86us/step - loss: 0.0042 - acc: 0.0019 - val_loss: 0.0019 - val_acc: 0.0038\n",
            "Epoch 25/100\n",
            "538/538 [==============================] - 0s 91us/step - loss: 0.0035 - acc: 0.0019 - val_loss: 0.0015 - val_acc: 0.0038\n",
            "Epoch 26/100\n",
            "538/538 [==============================] - 0s 100us/step - loss: 0.0044 - acc: 0.0019 - val_loss: 0.0012 - val_acc: 0.0038\n",
            "Epoch 27/100\n",
            "538/538 [==============================] - 0s 95us/step - loss: 0.0042 - acc: 0.0019 - val_loss: 0.0013 - val_acc: 0.0038\n",
            "Epoch 28/100\n",
            "538/538 [==============================] - 0s 92us/step - loss: 0.0036 - acc: 0.0019 - val_loss: 0.0011 - val_acc: 0.0038\n",
            "Epoch 29/100\n",
            "538/538 [==============================] - 0s 91us/step - loss: 0.0041 - acc: 0.0019 - val_loss: 9.8614e-04 - val_acc: 0.0038\n",
            "Epoch 30/100\n",
            "538/538 [==============================] - 0s 93us/step - loss: 0.0039 - acc: 0.0019 - val_loss: 6.8324e-04 - val_acc: 0.0038\n",
            "Epoch 31/100\n",
            "538/538 [==============================] - 0s 87us/step - loss: 0.0034 - acc: 0.0019 - val_loss: 6.2170e-04 - val_acc: 0.0038\n",
            "Epoch 32/100\n",
            "538/538 [==============================] - 0s 92us/step - loss: 0.0035 - acc: 0.0019 - val_loss: 5.8822e-04 - val_acc: 0.0038\n",
            "Epoch 33/100\n",
            "538/538 [==============================] - 0s 91us/step - loss: 0.0038 - acc: 0.0019 - val_loss: 7.3941e-04 - val_acc: 0.0038\n",
            "Epoch 34/100\n",
            "538/538 [==============================] - 0s 102us/step - loss: 0.0037 - acc: 0.0019 - val_loss: 5.6965e-04 - val_acc: 0.0038\n",
            "Epoch 35/100\n",
            "538/538 [==============================] - 0s 87us/step - loss: 0.0032 - acc: 0.0019 - val_loss: 7.5337e-04 - val_acc: 0.0038\n",
            "Epoch 36/100\n",
            "538/538 [==============================] - 0s 89us/step - loss: 0.0029 - acc: 0.0019 - val_loss: 5.9080e-04 - val_acc: 0.0038\n",
            "Epoch 37/100\n",
            "538/538 [==============================] - 0s 89us/step - loss: 0.0030 - acc: 0.0019 - val_loss: 7.8225e-04 - val_acc: 0.0038\n",
            "Epoch 38/100\n",
            "538/538 [==============================] - 0s 92us/step - loss: 0.0033 - acc: 0.0019 - val_loss: 6.0415e-04 - val_acc: 0.0038\n",
            "Epoch 39/100\n",
            "538/538 [==============================] - 0s 95us/step - loss: 0.0036 - acc: 0.0019 - val_loss: 0.0016 - val_acc: 0.0038\n",
            "Epoch 40/100\n",
            "538/538 [==============================] - 0s 88us/step - loss: 0.0034 - acc: 0.0019 - val_loss: 9.0523e-04 - val_acc: 0.0038\n",
            "Epoch 41/100\n",
            "538/538 [==============================] - 0s 98us/step - loss: 0.0036 - acc: 0.0019 - val_loss: 6.5641e-04 - val_acc: 0.0038\n",
            "Epoch 42/100\n",
            "538/538 [==============================] - 0s 89us/step - loss: 0.0029 - acc: 0.0019 - val_loss: 0.0011 - val_acc: 0.0038\n",
            "Epoch 43/100\n",
            "538/538 [==============================] - 0s 92us/step - loss: 0.0030 - acc: 0.0019 - val_loss: 6.5569e-04 - val_acc: 0.0038\n",
            "Epoch 44/100\n",
            "538/538 [==============================] - 0s 87us/step - loss: 0.0034 - acc: 0.0019 - val_loss: 9.1489e-04 - val_acc: 0.0038\n",
            "Epoch 45/100\n",
            "538/538 [==============================] - 0s 100us/step - loss: 0.0030 - acc: 0.0019 - val_loss: 8.2951e-04 - val_acc: 0.0038\n",
            "Epoch 46/100\n",
            "538/538 [==============================] - 0s 87us/step - loss: 0.0033 - acc: 0.0019 - val_loss: 6.2892e-04 - val_acc: 0.0038\n",
            "Epoch 47/100\n",
            "538/538 [==============================] - 0s 91us/step - loss: 0.0029 - acc: 0.0019 - val_loss: 6.6254e-04 - val_acc: 0.0038\n",
            "Epoch 48/100\n",
            "538/538 [==============================] - 0s 86us/step - loss: 0.0029 - acc: 0.0019 - val_loss: 7.5585e-04 - val_acc: 0.0038\n",
            "Epoch 49/100\n",
            "538/538 [==============================] - 0s 89us/step - loss: 0.0028 - acc: 0.0019 - val_loss: 7.2599e-04 - val_acc: 0.0038\n",
            "Epoch 50/100\n",
            "538/538 [==============================] - 0s 91us/step - loss: 0.0033 - acc: 0.0019 - val_loss: 6.3604e-04 - val_acc: 0.0038\n",
            "Epoch 51/100\n",
            "538/538 [==============================] - 0s 95us/step - loss: 0.0023 - acc: 0.0019 - val_loss: 8.3311e-04 - val_acc: 0.0038\n",
            "Epoch 52/100\n",
            "538/538 [==============================] - 0s 90us/step - loss: 0.0028 - acc: 0.0019 - val_loss: 5.8143e-04 - val_acc: 0.0038\n",
            "Epoch 53/100\n",
            "538/538 [==============================] - 0s 97us/step - loss: 0.0031 - acc: 0.0019 - val_loss: 8.9352e-04 - val_acc: 0.0038\n",
            "Epoch 54/100\n",
            "538/538 [==============================] - 0s 87us/step - loss: 0.0027 - acc: 0.0019 - val_loss: 5.7171e-04 - val_acc: 0.0038\n",
            "Epoch 55/100\n",
            "538/538 [==============================] - 0s 96us/step - loss: 0.0023 - acc: 0.0019 - val_loss: 6.1792e-04 - val_acc: 0.0038\n",
            "Epoch 56/100\n",
            "538/538 [==============================] - 0s 93us/step - loss: 0.0024 - acc: 0.0019 - val_loss: 7.5801e-04 - val_acc: 0.0038\n",
            "Epoch 57/100\n",
            "538/538 [==============================] - 0s 94us/step - loss: 0.0023 - acc: 0.0019 - val_loss: 5.8452e-04 - val_acc: 0.0038\n",
            "Epoch 58/100\n",
            "538/538 [==============================] - 0s 108us/step - loss: 0.0028 - acc: 0.0019 - val_loss: 6.5467e-04 - val_acc: 0.0038\n",
            "Epoch 59/100\n",
            "538/538 [==============================] - 0s 88us/step - loss: 0.0026 - acc: 0.0019 - val_loss: 7.2730e-04 - val_acc: 0.0038\n",
            "Epoch 60/100\n",
            "538/538 [==============================] - 0s 85us/step - loss: 0.0027 - acc: 0.0019 - val_loss: 7.6330e-04 - val_acc: 0.0038\n",
            "Epoch 61/100\n",
            "538/538 [==============================] - 0s 83us/step - loss: 0.0025 - acc: 0.0019 - val_loss: 6.0876e-04 - val_acc: 0.0038\n",
            "Epoch 62/100\n",
            "538/538 [==============================] - 0s 89us/step - loss: 0.0024 - acc: 0.0019 - val_loss: 6.1963e-04 - val_acc: 0.0038\n",
            "Epoch 63/100\n",
            "538/538 [==============================] - 0s 84us/step - loss: 0.0026 - acc: 0.0019 - val_loss: 6.5621e-04 - val_acc: 0.0038\n",
            "Epoch 64/100\n",
            "538/538 [==============================] - 0s 86us/step - loss: 0.0026 - acc: 0.0019 - val_loss: 7.4703e-04 - val_acc: 0.0038\n",
            "Epoch 65/100\n",
            "538/538 [==============================] - 0s 83us/step - loss: 0.0028 - acc: 0.0019 - val_loss: 0.0010 - val_acc: 0.0038\n",
            "Epoch 66/100\n",
            "538/538 [==============================] - 0s 85us/step - loss: 0.0023 - acc: 0.0019 - val_loss: 6.8500e-04 - val_acc: 0.0038\n",
            "Epoch 67/100\n",
            "538/538 [==============================] - 0s 88us/step - loss: 0.0022 - acc: 0.0019 - val_loss: 5.8571e-04 - val_acc: 0.0038\n",
            "Epoch 68/100\n",
            "538/538 [==============================] - 0s 91us/step - loss: 0.0025 - acc: 0.0019 - val_loss: 8.6032e-04 - val_acc: 0.0038\n",
            "Epoch 69/100\n",
            "538/538 [==============================] - 0s 96us/step - loss: 0.0023 - acc: 0.0019 - val_loss: 6.4631e-04 - val_acc: 0.0038\n",
            "Epoch 70/100\n",
            "538/538 [==============================] - 0s 90us/step - loss: 0.0027 - acc: 0.0019 - val_loss: 5.8031e-04 - val_acc: 0.0038\n",
            "Epoch 71/100\n",
            "538/538 [==============================] - 0s 81us/step - loss: 0.0026 - acc: 0.0019 - val_loss: 7.2869e-04 - val_acc: 0.0038\n",
            "Epoch 72/100\n",
            "538/538 [==============================] - 0s 85us/step - loss: 0.0022 - acc: 0.0019 - val_loss: 7.3206e-04 - val_acc: 0.0038\n",
            "Epoch 73/100\n",
            "538/538 [==============================] - 0s 93us/step - loss: 0.0020 - acc: 0.0019 - val_loss: 6.8523e-04 - val_acc: 0.0038\n",
            "Epoch 74/100\n",
            "538/538 [==============================] - 0s 93us/step - loss: 0.0025 - acc: 0.0019 - val_loss: 8.7687e-04 - val_acc: 0.0038\n",
            "Epoch 75/100\n",
            "538/538 [==============================] - 0s 86us/step - loss: 0.0022 - acc: 0.0019 - val_loss: 9.5932e-04 - val_acc: 0.0038\n",
            "Epoch 76/100\n",
            "538/538 [==============================] - 0s 96us/step - loss: 0.0026 - acc: 0.0019 - val_loss: 7.6945e-04 - val_acc: 0.0038\n",
            "Epoch 77/100\n",
            "538/538 [==============================] - 0s 90us/step - loss: 0.0017 - acc: 0.0019 - val_loss: 5.7619e-04 - val_acc: 0.0038\n",
            "Epoch 78/100\n",
            "538/538 [==============================] - 0s 92us/step - loss: 0.0022 - acc: 0.0019 - val_loss: 6.9944e-04 - val_acc: 0.0038\n",
            "Epoch 79/100\n",
            "538/538 [==============================] - 0s 91us/step - loss: 0.0021 - acc: 0.0019 - val_loss: 6.1011e-04 - val_acc: 0.0038\n",
            "Epoch 80/100\n",
            "538/538 [==============================] - 0s 94us/step - loss: 0.0021 - acc: 0.0019 - val_loss: 7.1926e-04 - val_acc: 0.0038\n",
            "Epoch 81/100\n",
            "538/538 [==============================] - 0s 85us/step - loss: 0.0023 - acc: 0.0019 - val_loss: 7.6142e-04 - val_acc: 0.0038\n",
            "Epoch 82/100\n",
            "538/538 [==============================] - 0s 89us/step - loss: 0.0022 - acc: 0.0019 - val_loss: 6.7431e-04 - val_acc: 0.0038\n",
            "Epoch 83/100\n",
            "538/538 [==============================] - 0s 94us/step - loss: 0.0025 - acc: 0.0019 - val_loss: 7.5018e-04 - val_acc: 0.0038\n",
            "Epoch 84/100\n",
            "538/538 [==============================] - 0s 95us/step - loss: 0.0020 - acc: 0.0019 - val_loss: 5.6735e-04 - val_acc: 0.0038\n",
            "Epoch 85/100\n",
            "538/538 [==============================] - 0s 91us/step - loss: 0.0018 - acc: 0.0019 - val_loss: 7.5773e-04 - val_acc: 0.0038\n",
            "Epoch 86/100\n",
            "538/538 [==============================] - 0s 89us/step - loss: 0.0026 - acc: 0.0019 - val_loss: 5.7853e-04 - val_acc: 0.0038\n",
            "Epoch 87/100\n",
            "538/538 [==============================] - 0s 93us/step - loss: 0.0019 - acc: 0.0019 - val_loss: 8.4971e-04 - val_acc: 0.0038\n",
            "Epoch 88/100\n",
            "538/538 [==============================] - 0s 89us/step - loss: 0.0020 - acc: 0.0019 - val_loss: 5.6159e-04 - val_acc: 0.0038\n",
            "Epoch 89/100\n",
            "538/538 [==============================] - 0s 94us/step - loss: 0.0022 - acc: 0.0019 - val_loss: 5.7716e-04 - val_acc: 0.0038\n",
            "Epoch 90/100\n",
            "538/538 [==============================] - 0s 91us/step - loss: 0.0021 - acc: 0.0019 - val_loss: 6.0401e-04 - val_acc: 0.0038\n",
            "Epoch 91/100\n",
            "538/538 [==============================] - 0s 88us/step - loss: 0.0018 - acc: 0.0019 - val_loss: 6.5533e-04 - val_acc: 0.0038\n",
            "Epoch 92/100\n",
            "538/538 [==============================] - 0s 90us/step - loss: 0.0019 - acc: 0.0019 - val_loss: 6.3901e-04 - val_acc: 0.0038\n",
            "Epoch 93/100\n",
            "538/538 [==============================] - 0s 93us/step - loss: 0.0021 - acc: 0.0019 - val_loss: 5.8929e-04 - val_acc: 0.0038\n",
            "Epoch 94/100\n",
            "538/538 [==============================] - 0s 86us/step - loss: 0.0018 - acc: 0.0019 - val_loss: 8.7439e-04 - val_acc: 0.0038\n",
            "Epoch 95/100\n",
            "538/538 [==============================] - 0s 90us/step - loss: 0.0025 - acc: 0.0019 - val_loss: 6.8145e-04 - val_acc: 0.0038\n",
            "Epoch 96/100\n",
            "538/538 [==============================] - 0s 89us/step - loss: 0.0018 - acc: 0.0019 - val_loss: 8.0211e-04 - val_acc: 0.0038\n",
            "Epoch 97/100\n",
            "538/538 [==============================] - 0s 89us/step - loss: 0.0018 - acc: 0.0019 - val_loss: 5.9667e-04 - val_acc: 0.0038\n",
            "Epoch 98/100\n",
            "538/538 [==============================] - 0s 89us/step - loss: 0.0023 - acc: 0.0019 - val_loss: 6.4141e-04 - val_acc: 0.0038\n",
            "Epoch 99/100\n",
            "538/538 [==============================] - 0s 90us/step - loss: 0.0016 - acc: 0.0019 - val_loss: 6.1873e-04 - val_acc: 0.0038\n",
            "Epoch 100/100\n",
            "538/538 [==============================] - 0s 92us/step - loss: 0.0017 - acc: 0.0019 - val_loss: 5.5789e-04 - val_acc: 0.0038\n"
          ],
          "name": "stdout"
        }
      ]
    },
    {
      "metadata": {
        "id": "MhorPdOZSHxQ",
        "colab_type": "code",
        "colab": {
          "base_uri": "https://localhost:8080/",
          "height": 105
        },
        "outputId": "047efa74-f254-4750-b104-ceca26a65b34"
      },
      "cell_type": "code",
      "source": [
        "print(history.history['loss'])\n",
        "print(history.history['acc'])\n",
        "print(history.history['val_loss'])\n",
        "print(history.history['val_acc'])"
      ],
      "execution_count": 25,
      "outputs": [
        {
          "output_type": "stream",
          "text": [
            "[0.1389230760887653, 0.09921100378368868, 0.06951444676374414, 0.04632475160643957, 0.03341019972050943, 0.028184849159535865, 0.026490553867307295, 0.024207520752203508, 0.02309796146937684, 0.021909883038095827, 0.01949156554187319, 0.016552839282775456, 0.015521028577644364, 0.01402924803248347, 0.012858861676489997, 0.009506652730631341, 0.009477715807721073, 0.008689749490843609, 0.006654892002533581, 0.007049138901831381, 0.005233556345506782, 0.0050995833565893, 0.0038415683220490316, 0.004192770820554193, 0.0035186107530082024, 0.004352348932795586, 0.00421684945770799, 0.003598536390267645, 0.004143489081564889, 0.0038828256022406665, 0.0034297786170069725, 0.00347246094277911, 0.0038327063212247364, 0.0036764412055477554, 0.0031854260131218178, 0.002932127606691481, 0.0030364464833418457, 0.0033097767329958293, 0.0035795574578487742, 0.003371313446267165, 0.0035867252972212422, 0.0029299928457043427, 0.0030322381014828343, 0.0033865784377995257, 0.0030086950548720236, 0.0032921733808977233, 0.0029108041436948077, 0.002876826669314537, 0.002834069547780052, 0.0032706094678962207, 0.0023186967065938675, 0.002844620211271493, 0.00313688406104492, 0.00268540317867796, 0.0023126408101152977, 0.0024081572767374795, 0.0023416439824318685, 0.0027781920126712014, 0.002594276395415174, 0.0027137853916679062, 0.0024708817820289766, 0.0023857040069374122, 0.002578830917722452, 0.0026027997817193267, 0.002788098740173317, 0.0022841113202748163, 0.002217612622243432, 0.0025218038172305293, 0.0022587542574451095, 0.002690640723048865, 0.002579900503615575, 0.0021832162041743337, 0.001994464820818664, 0.0025090758228279845, 0.002168051267066991, 0.002616576411584773, 0.0017389634400813885, 0.0021608562890758744, 0.0021418418352696423, 0.0020545430344678325, 0.0022776092456300574, 0.0022060617187396247, 0.0024548701800883757, 0.0019525706354307087, 0.0018445685511060254, 0.002558416816783328, 0.0019251220676957952, 0.002044158778239914, 0.002229565537281916, 0.002114056662369007, 0.0017776255388519135, 0.0019386838677990144, 0.0021112357862605314, 0.0018152152876227707, 0.002520592447645533, 0.0017864346092213708, 0.001794159856406785, 0.0023136031510980043, 0.001618825895218421, 0.001668166036831845]\n",
            "[0.0018587360594795538, 0.0018587360594795538, 0.0018587360594795538, 0.0018587360594795538, 0.0018587360594795538, 0.0018587360594795538, 0.0018587360594795538, 0.0018587360594795538, 0.0018587360594795538, 0.0018587360594795538, 0.0018587360594795538, 0.0018587360594795538, 0.0018587360594795538, 0.0018587360594795538, 0.0018587360594795538, 0.0018587360594795538, 0.0018587360594795538, 0.0018587360594795538, 0.0018587360594795538, 0.0018587360594795538, 0.0018587360594795538, 0.0018587360594795538, 0.0018587360594795538, 0.0018587360594795538, 0.0018587360594795538, 0.0018587360594795538, 0.0018587360594795538, 0.0018587360594795538, 0.0018587360594795538, 0.0018587360594795538, 0.0018587360594795538, 0.0018587360594795538, 0.0018587360594795538, 0.0018587360594795538, 0.0018587360594795538, 0.0018587360594795538, 0.0018587360594795538, 0.0018587360594795538, 0.0018587360594795538, 0.0018587360594795538, 0.0018587360594795538, 0.0018587360594795538, 0.0018587360594795538, 0.0018587360594795538, 0.0018587360594795538, 0.0018587360594795538, 0.0018587360594795538, 0.0018587360594795538, 0.0018587360594795538, 0.0018587360594795538, 0.0018587360594795538, 0.0018587360594795538, 0.0018587360594795538, 0.0018587360594795538, 0.0018587360594795538, 0.0018587360594795538, 0.0018587360594795538, 0.0018587360594795538, 0.0018587360594795538, 0.0018587360594795538, 0.0018587360594795538, 0.0018587360594795538, 0.0018587360594795538, 0.0018587360594795538, 0.0018587360594795538, 0.0018587360594795538, 0.0018587360594795538, 0.0018587360594795538, 0.0018587360594795538, 0.0018587360594795538, 0.0018587360594795538, 0.0018587360594795538, 0.0018587360594795538, 0.0018587360594795538, 0.0018587360594795538, 0.0018587360594795538, 0.0018587360594795538, 0.0018587360594795538, 0.0018587360594795538, 0.0018587360594795538, 0.0018587360594795538, 0.0018587360594795538, 0.0018587360594795538, 0.0018587360594795538, 0.0018587360594795538, 0.0018587360594795538, 0.0018587360594795538, 0.001858736128722868, 0.0018587360594795538, 0.0018587360594795538, 0.0018587360594795538, 0.0018587360594795538, 0.0018587360594795538, 0.0018587360594795538, 0.0018587360594795538, 0.0018587360594795538, 0.0018587360594795538, 0.0018587360594795538, 0.0018587360594795538, 0.0018587360594795538]\n",
            "[0.3687989851213851, 0.27668498242801093, 0.19721958581006752, 0.135376220829082, 0.09198105121558567, 0.06799698120580529, 0.0572911964272553, 0.050407318222635195, 0.047006880716895155, 0.04350858995655798, 0.0372217974361946, 0.033470325256293676, 0.027894816210247437, 0.025192415587744623, 0.02119413863797233, 0.018266233025153854, 0.013808554084092942, 0.00956068327826149, 0.007229536822733452, 0.004498488972631266, 0.0037788436308784307, 0.002771188593733142, 0.0029196253520840745, 0.001885230322632025, 0.0014977387627059559, 0.001189800273222884, 0.0012835427688188711, 0.0011303823638953408, 0.0009861449385940467, 0.0006832435017644937, 0.0006217004013036922, 0.000588217266079671, 0.000739406867673234, 0.0005696454698237468, 0.0007533681038591378, 0.0005907981547764239, 0.0007822493534921757, 0.0006041453277059602, 0.0016063165376490017, 0.0009052313947698698, 0.0006564065732747176, 0.0010806126361888534, 0.0006556875643513675, 0.0009148907645623077, 0.0008295144002779194, 0.0006289237479784719, 0.0006625440024401782, 0.0007558541811721504, 0.000725994863160798, 0.0006360360140086345, 0.0008331062360051668, 0.0005814261833328824, 0.0008935166821586636, 0.0005717057501897216, 0.0006179208133615694, 0.0007580057731038838, 0.0005845208006541965, 0.0006546744488109395, 0.0007272992590618021, 0.0007633031552376331, 0.0006087588640544915, 0.0006196306932735134, 0.0006562054324192258, 0.0007470289394610895, 0.001026558156898421, 0.0006849972610274013, 0.000585713679682604, 0.0008603179880048869, 0.0006463052078923387, 0.0005803109493704055, 0.0007286852954904426, 0.000732063291866754, 0.0006852342123341448, 0.000876870063871567, 0.0009593221675253139, 0.0007694511858851842, 0.0005761882437410642, 0.0006994367796787114, 0.0006101074824021813, 0.0007192621238195811, 0.0007614166590051268, 0.0006743103485413879, 0.0007501756212287495, 0.0005673493267441133, 0.0007577330467097883, 0.0005785253189969808, 0.0008497118875208609, 0.000561588842263621, 0.0005771586165174772, 0.0006040090826814467, 0.0006553251990380714, 0.000639009652527506, 0.0005892870717084493, 0.0008743882104578726, 0.0006814466604857512, 0.0008021070138674299, 0.0005966684139632392, 0.000641412966234504, 0.0006187293193092183, 0.0005578883271225078]\n",
            "[0.0, 0.0, 0.0, 0.0, 0.0, 0.0037735849056603774, 0.0037735849056603774, 0.0037735849056603774, 0.0037735849056603774, 0.0037735849056603774, 0.0037735849056603774, 0.0037735849056603774, 0.0037735849056603774, 0.0037735849056603774, 0.0037735849056603774, 0.0037735849056603774, 0.0037735849056603774, 0.0037735849056603774, 0.0037735849056603774, 0.0037735849056603774, 0.0037735849056603774, 0.0037735849056603774, 0.0037735849056603774, 0.0037735849056603774, 0.0037735849056603774, 0.0037735849056603774, 0.0037735849056603774, 0.0037735849056603774, 0.0037735849056603774, 0.0037735849056603774, 0.0037735849056603774, 0.0037735849056603774, 0.0037735849056603774, 0.0037735849056603774, 0.0037735849056603774, 0.0037735849056603774, 0.0037735849056603774, 0.0037735849056603774, 0.0037735849056603774, 0.0037735849056603774, 0.0037735849056603774, 0.0037735849056603774, 0.0037735849056603774, 0.0037735849056603774, 0.0037735849056603774, 0.0037735849056603774, 0.0037735849056603774, 0.0037735849056603774, 0.0037735849056603774, 0.0037735849056603774, 0.0037735849056603774, 0.0037735849056603774, 0.0037735849056603774, 0.0037735849056603774, 0.0037735849056603774, 0.0037735849056603774, 0.0037735849056603774, 0.0037735849056603774, 0.0037735849056603774, 0.0037735849056603774, 0.0037735849056603774, 0.0037735849056603774, 0.0037735849056603774, 0.0037735849056603774, 0.0037735849056603774, 0.0037735849056603774, 0.0037735849056603774, 0.0037735849056603774, 0.0037735849056603774, 0.0037735849056603774, 0.0037735849056603774, 0.0037735849056603774, 0.0037735849056603774, 0.0037735849056603774, 0.0037735849056603774, 0.0037735849056603774, 0.0037735849056603774, 0.0037735849056603774, 0.0037735849056603774, 0.0037735849056603774, 0.0037735849056603774, 0.0037735849056603774, 0.0037735849056603774, 0.0037735849056603774, 0.0037735849056603774, 0.0037735849056603774, 0.0037735849056603774, 0.0037735849056603774, 0.0037735849056603774, 0.0037735849056603774, 0.0037735849056603774, 0.0037735849056603774, 0.0037735849056603774, 0.0037735849056603774, 0.0037735849056603774, 0.0037735849056603774, 0.0037735849056603774, 0.0037735849056603774, 0.0037735849056603774, 0.0037735849056603774]\n"
          ],
          "name": "stdout"
        }
      ]
    },
    {
      "metadata": {
        "id": "LKJrsr9NS-5Z",
        "colab_type": "code",
        "colab": {
          "base_uri": "https://localhost:8080/",
          "height": 513
        },
        "outputId": "c61308ec-6c5b-4314-e73f-86a1c80b559e"
      },
      "cell_type": "code",
      "source": [
        "plt.plot(history.history['loss'])\n",
        "plt.plot(history.history['val_loss'])\n",
        "plt.title('model train vs validation loss')\n",
        "plt.ylabel('loss')\n",
        "plt.xlabel('epoch')\n",
        "plt.legend(['train', 'validation'], loc='upper right')\n",
        "plt.show()"
      ],
      "execution_count": 26,
      "outputs": [
        {
          "output_type": "display_data",
          "data": {
            "image/png": "[encoded data removed]",
            "text/plain": [
              "<Figure size 1152x576 with 1 Axes>"
            ]
          },
          "metadata": {
            "tags": []
          }
        }
      ]
    },
    {
      "metadata": {
        "id": "w5ssePYlTCn6",
        "colab_type": "code",
        "colab": {}
      },
      "cell_type": "code",
      "source": [
        "testforrmse = np.array(testPredict).reshape(-1, 1)\n",
        "predforrmse = np.array(testX).reshape(-1, 1)\n",
        "rmse_lstm = sqrt(mean_squared_error(testforrmse, predforrmse))"
      ],
      "execution_count": 0,
      "outputs": []
    },
    {
      "metadata": {
        "id": "xvs-1FFBTJD4",
        "colab_type": "code",
        "colab": {}
      },
      "cell_type": "code",
      "source": [
        "trainPredict = model.predict(trainX)\n",
        "\n",
        "trainPredict = scaler.inverse_transform(np.array(trainPredict).reshape(-1, 1))\n",
        "df['Price'] = scaler.inverse_transform(df[['Price']])\n",
        "testPredict = scaler.inverse_transform(np.array(testPredict).reshape(-1, 1))\n",
        "testX = scaler.inverse_transform(np.array(testX).reshape(-1, 1))"
      ],
      "execution_count": 0,
      "outputs": []
    },
    {
      "metadata": {
        "id": "9U22CSP5TZEU",
        "colab_type": "code",
        "colab": {
          "base_uri": "https://localhost:8080/",
          "height": 51
        },
        "outputId": "4b762ebd-cf4f-4c9d-c36d-ba58d4150410"
      },
      "cell_type": "code",
      "source": [
        "trainScore = math.sqrt(mean_squared_error(trainY[:,0], trainPredict[:,0]))\n",
        "print('Train Score: %.2f RMSE' % (trainScore))\n",
        "testScore = math.sqrt(mean_squared_error(testY[:,0], testPredict[:,0]))\n",
        "print('Test Score: %.2f RMSE' % (testScore))"
      ],
      "execution_count": 29,
      "outputs": [
        {
          "output_type": "stream",
          "text": [
            "Train Score: 0.02 RMSE\n",
            "Test Score: 0.02 RMSE\n"
          ],
          "name": "stdout"
        }
      ]
    },
    {
      "metadata": {
        "id": "rMU41i1nUejs",
        "colab_type": "code",
        "colab": {
          "base_uri": "https://localhost:8080/",
          "height": 513
        },
        "outputId": "929830f2-45a0-4a38-9cc5-96e0237372f2"
      },
      "cell_type": "code",
      "source": [
        "fig2, ax2 = plt.subplots()\n",
        "ax2.plot(df.index[:807],df['Price'][:807],label='Original',color='orange')\n",
        "ax2.plot(df.index[807:],testPredict,label='Prediction',color='red')\n",
        "ax2.plot(df.index[807:],testX,label='Actual',color='green')\n",
        "ax2.xaxis.set_major_locator(mdates.YearLocator())\n",
        "ax2.legend(fontsize=12)\n",
        "plt.xlabel('Date')\n",
        "plt.ylabel('Close Price')\n",
        "plt.title(\"LSTM Predicitions on KSE 100\")\n",
        "plt.show()"
      ],
      "execution_count": 30,
      "outputs": [
        {
          "output_type": "display_data",
          "data": {
            "image/png": "[encoded data removed]",
            "text/plain": [
              "<Figure size 1152x576 with 1 Axes>"
            ]
          },
          "metadata": {
            "tags": []
          }
        }
      ]
    },
    {
      "metadata": {
        "id": "mmP7g3EkUibj",
        "colab_type": "code",
        "colab": {}
      },
      "cell_type": "code",
      "source": [
        ""
      ],
      "execution_count": 0,
      "outputs": []
    }
  ]
}